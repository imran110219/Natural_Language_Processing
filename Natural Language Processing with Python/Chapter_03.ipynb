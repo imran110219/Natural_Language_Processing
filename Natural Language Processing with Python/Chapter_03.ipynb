{
 "cells": [
  {
   "cell_type": "markdown",
   "metadata": {},
   "source": [
    "# 3 Processing Raw Text"
   ]
  },
  {
   "cell_type": "markdown",
   "metadata": {
    "collapsed": true
   },
   "source": [
    "3.1 Accessing Text from the Web and from Disk"
   ]
  },
  {
   "cell_type": "code",
   "execution_count": null,
   "metadata": {
    "collapsed": true
   },
   "outputs": [],
   "source": [
    "from urllib import request\n",
    "url = 'http://www.gutenberg.org/files/2554/2554-0.txt'\n",
    "response = request.urlopen(url)\n",
    "raw = response.read().decode('utf8')\n",
    "type(raw)"
   ]
  },
  {
   "cell_type": "code",
   "execution_count": null,
   "metadata": {
    "collapsed": true
   },
   "outputs": [],
   "source": [
    "len(raw)"
   ]
  },
  {
   "cell_type": "code",
   "execution_count": null,
   "metadata": {
    "collapsed": true
   },
   "outputs": [],
   "source": [
    "raw[:75]"
   ]
  },
  {
   "cell_type": "code",
   "execution_count": null,
   "metadata": {
    "collapsed": true
   },
   "outputs": [],
   "source": [
    "import nltk\n",
    "tokens = nltk.tokenize.word_tokenize(raw)\n",
    "type(tokens)"
   ]
  },
  {
   "cell_type": "code",
   "execution_count": null,
   "metadata": {
    "collapsed": true
   },
   "outputs": [],
   "source": [
    "len(tokens)"
   ]
  },
  {
   "cell_type": "code",
   "execution_count": null,
   "metadata": {
    "collapsed": true
   },
   "outputs": [],
   "source": [
    "tokens[:10]"
   ]
  },
  {
   "cell_type": "code",
   "execution_count": null,
   "metadata": {
    "collapsed": true
   },
   "outputs": [],
   "source": [
    "text = nltk.Text(tokens)\n",
    "type(text)"
   ]
  },
  {
   "cell_type": "code",
   "execution_count": null,
   "metadata": {
    "collapsed": true
   },
   "outputs": [],
   "source": [
    "text[1024:1062]"
   ]
  },
  {
   "cell_type": "code",
   "execution_count": null,
   "metadata": {
    "collapsed": true
   },
   "outputs": [],
   "source": [
    "text.collocations()"
   ]
  },
  {
   "cell_type": "code",
   "execution_count": null,
   "metadata": {
    "collapsed": true
   },
   "outputs": [],
   "source": [
    "raw.find(\"PART I\")"
   ]
  },
  {
   "cell_type": "code",
   "execution_count": null,
   "metadata": {
    "collapsed": true
   },
   "outputs": [],
   "source": [
    "raw.rfind(\"End of Project Gutenberg's Crime\")"
   ]
  },
  {
   "cell_type": "code",
   "execution_count": null,
   "metadata": {
    "collapsed": true
   },
   "outputs": [],
   "source": [
    "raw = raw[5338:1157743]\n",
    "raw.find(\"PART I\")"
   ]
  },
  {
   "cell_type": "code",
   "execution_count": null,
   "metadata": {
    "collapsed": true
   },
   "outputs": [],
   "source": [
    "url = \"http://news.bbc.co.uk/2/hi/health/2284783.stm\"\n",
    "html = request.urlopen(url).read().decode('utf8')\n",
    "html[:60]"
   ]
  },
  {
   "cell_type": "code",
   "execution_count": null,
   "metadata": {
    "collapsed": true
   },
   "outputs": [],
   "source": [
    "from bs4 import BeautifulSoup\n",
    "raw = BeautifulSoup(html).get_text()\n",
    "tokens = nltk.tokenize.word_tokenize(raw)\n",
    "tokens"
   ]
  },
  {
   "cell_type": "code",
   "execution_count": null,
   "metadata": {
    "collapsed": true
   },
   "outputs": [],
   "source": [
    "tokens = tokens[110:390]\n",
    "text = nltk.Text(tokens)\n",
    "text.concordance('gene')"
   ]
  },
  {
   "cell_type": "code",
   "execution_count": null,
   "metadata": {
    "collapsed": true
   },
   "outputs": [],
   "source": [
    "import feedparser\n",
    "llog = feedparser.parse(\"http://languagelog.ldc.upenn.edu/nll/?feed=atom\")\n",
    "llog['feed']['title']"
   ]
  },
  {
   "cell_type": "code",
   "execution_count": null,
   "metadata": {
    "collapsed": true
   },
   "outputs": [],
   "source": [
    "len(llog.entries)"
   ]
  },
  {
   "cell_type": "code",
   "execution_count": null,
   "metadata": {
    "collapsed": true
   },
   "outputs": [],
   "source": [
    "post = llog.entries[2]\n",
    "post.title"
   ]
  },
  {
   "cell_type": "code",
   "execution_count": null,
   "metadata": {
    "collapsed": true
   },
   "outputs": [],
   "source": [
    "content = post.content[0].value\n",
    "content[:70]"
   ]
  },
  {
   "cell_type": "code",
   "execution_count": null,
   "metadata": {
    "collapsed": true
   },
   "outputs": [],
   "source": [
    "raw = BeautifulSoup(content).get_text()\n",
    "word_tokenize(raw)"
   ]
  },
  {
   "cell_type": "code",
   "execution_count": 3,
   "metadata": {},
   "outputs": [
    {
     "name": "stdout",
     "output_type": "stream",
     "text": [
      "WASHINGTON — By the time American negotiators wrapped up high-level talks with a visiting Chinese delegation last week, President Trump’s ambitions for a multibillion-dollar trade agreement had, for the time being, shriveled into a blandly worded communiqué without any dollar figures. It was not clear that the talks set a path to success.\n",
      "\n",
      "Ceaseless infighting and jockeying for influence on the White House’s trade team helped deprive Mr. Trump of a quick victory on his most cherished policy agenda, several people involved in the talks said. The deep internal divisions carried over into how officials characterized the agreement and muddied the outlook for the next phase of the negotiations between Washington and Beijing.\n",
      "\n",
      "Treasury Secretary Steven Mnuchin said Sunday that the United States would hold off on imposing tariffs on China, putting the trade war “on hold,” but hours later, the United States trade representative, Robert Lighthizer, warned the Chinese that the Trump administration might yet impose tariffs.\n",
      "\n",
      "On Friday, Mr. Trump’s chief economic adviser, Larry Kudlow, told reporters that China had offered to reduce its trade surplus with the United States by $200 billion. Two days later, he said that the number was merely a “rough ballpark estimate,” and that the two countries never expected to reach an agreement and merely planned to issue a statement laying out next steps.\n",
      "\n",
      "It was a muddled end to a chaotic process — one that revealed an American team riven by conflicts over tactics and policy, working for a president eager for a victory but torn by his desire to have a smooth summit meeting next month with North Korea, over which China wields enormous influence.\n",
      "\n",
      "Now the future of the negotiations falls to Wilbur Ross, the 80-year-old commerce secretary, who will travel to China in the coming days to try to nail down the commitments that proved so elusive in last week’s negotiations.\n"
     ]
    }
   ],
   "source": [
    "f = open('document.txt')\n",
    "raw = f.read()"
   ]
  },
  {
   "cell_type": "code",
   "execution_count": 7,
   "metadata": {},
   "outputs": [
    {
     "data": {
      "text/plain": [
       "['.ipynb_checkpoints',\n",
       " 'Chapter_01.ipynb',\n",
       " 'Chapter_02.ipynb',\n",
       " 'Chapter_03.ipynb',\n",
       " 'document.txt',\n",
       " 'text_proc.py',\n",
       " '__pycache__']"
      ]
     },
     "execution_count": 7,
     "metadata": {},
     "output_type": "execute_result"
    }
   ],
   "source": [
    "import os\n",
    "os.listdir('.')"
   ]
  },
  {
   "cell_type": "code",
   "execution_count": 10,
   "metadata": {},
   "outputs": [
    {
     "data": {
      "text/plain": [
       "'WASHINGTON — By the time American negotiators wrapped up high-level talks with a visiting Chinese delegation last week, President Trump’s ambitions for a multibillion-dollar trade agreement had, for the time being, shriveled into a blandly worded communiqué without any dollar figures. It was not clear that the talks set a path to success.\\n\\nCeaseless infighting and jockeying for influence on the White House’s trade team helped deprive Mr. Trump of a quick victory on his most cherished policy agenda, several people involved in the talks said. The deep internal divisions carried over into how officials characterized the agreement and muddied the outlook for the next phase of the negotiations between Washington and Beijing.\\n\\nTreasury Secretary Steven Mnuchin said Sunday that the United States would hold off on imposing tariffs on China, putting the trade war “on hold,” but hours later, the United States trade representative, Robert Lighthizer, warned the Chinese that the Trump administration might yet impose tariffs.\\n\\nOn Friday, Mr. Trump’s chief economic adviser, Larry Kudlow, told reporters that China had offered to reduce its trade surplus with the United States by $200 billion. Two days later, he said that the number was merely a “rough ballpark estimate,” and that the two countries never expected to reach an agreement and merely planned to issue a statement laying out next steps.\\n\\nIt was a muddled end to a chaotic process — one that revealed an American team riven by conflicts over tactics and policy, working for a president eager for a victory but torn by his desire to have a smooth summit meeting next month with North Korea, over which China wields enormous influence.\\n\\nNow the future of the negotiations falls to Wilbur Ross, the 80-year-old commerce secretary, who will travel to China in the coming days to try to nail down the commitments that proved so elusive in last week’s negotiations.'"
      ]
     },
     "execution_count": 10,
     "metadata": {},
     "output_type": "execute_result"
    }
   ],
   "source": [
    "f.read()"
   ]
  },
  {
   "cell_type": "code",
   "execution_count": 12,
   "metadata": {},
   "outputs": [
    {
     "name": "stdout",
     "output_type": "stream",
     "text": [
      "WASHINGTON — By the time American negotiators wrapped up high-level talks with a visiting Chinese delegation last week, President Trump’s ambitions for a multibillion-dollar trade agreement had, for the time being, shriveled into a blandly worded communiqué without any dollar figures. It was not clear that the talks set a path to success.\n",
      "\n",
      "Ceaseless infighting and jockeying for influence on the White House’s trade team helped deprive Mr. Trump of a quick victory on his most cherished policy agenda, several people involved in the talks said. The deep internal divisions carried over into how officials characterized the agreement and muddied the outlook for the next phase of the negotiations between Washington and Beijing.\n",
      "\n",
      "Treasury Secretary Steven Mnuchin said Sunday that the United States would hold off on imposing tariffs on China, putting the trade war “on hold,” but hours later, the United States trade representative, Robert Lighthizer, warned the Chinese that the Trump administration might yet impose tariffs.\n",
      "\n",
      "On Friday, Mr. Trump’s chief economic adviser, Larry Kudlow, told reporters that China had offered to reduce its trade surplus with the United States by $200 billion. Two days later, he said that the number was merely a “rough ballpark estimate,” and that the two countries never expected to reach an agreement and merely planned to issue a statement laying out next steps.\n",
      "\n",
      "It was a muddled end to a chaotic process — one that revealed an American team riven by conflicts over tactics and policy, working for a president eager for a victory but torn by his desire to have a smooth summit meeting next month with North Korea, over which China wields enormous influence.\n",
      "\n",
      "Now the future of the negotiations falls to Wilbur Ross, the 80-year-old commerce secretary, who will travel to China in the coming days to try to nail down the commitments that proved so elusive in last week’s negotiations.\n"
     ]
    },
    {
     "name": "stderr",
     "output_type": "stream",
     "text": [
      "C:\\Users\\Sadman\\Anaconda3\\lib\\site-packages\\ipykernel_launcher.py:1: DeprecationWarning: 'U' mode is deprecated\n",
      "  \"\"\"Entry point for launching an IPython kernel.\n"
     ]
    }
   ],
   "source": [
    "f = open('document.txt', 'rU')\n",
    "for line in f:\n",
    "    print(line.strip())"
   ]
  },
  {
   "cell_type": "code",
   "execution_count": 13,
   "metadata": {},
   "outputs": [
    {
     "name": "stderr",
     "output_type": "stream",
     "text": [
      "C:\\Users\\Sadman\\Anaconda3\\lib\\site-packages\\ipykernel_launcher.py:2: DeprecationWarning: 'U' mode is deprecated\n",
      "  \n"
     ]
    }
   ],
   "source": [
    "path = nltk.data.find('corpora/gutenberg/melville-moby_dick.txt')\n",
    "raw = open(path, 'rU').read()"
   ]
  },
  {
   "cell_type": "code",
   "execution_count": 14,
   "metadata": {},
   "outputs": [
    {
     "name": "stdout",
     "output_type": "stream",
     "text": [
      "Enter some text: Enter some text: On an exceptionally hot evening early in July\n"
     ]
    }
   ],
   "source": [
    "s = input(\"Enter some text: \")"
   ]
  },
  {
   "cell_type": "code",
   "execution_count": 16,
   "metadata": {},
   "outputs": [
    {
     "name": "stdout",
     "output_type": "stream",
     "text": [
      "You typed 12 words.\n"
     ]
    }
   ],
   "source": [
    "print(\"You typed\", len(nltk.tokenize.word_tokenize(s)), \"words.\")"
   ]
  },
  {
   "cell_type": "code",
   "execution_count": 27,
   "metadata": {},
   "outputs": [
    {
     "data": {
      "text/html": [
       "<img src=\"http://www.nltk.org/images/pipeline1.png\" width=\"900\" height=\"500\"/>"
      ],
      "text/plain": [
       "<IPython.core.display.Image object>"
      ]
     },
     "execution_count": 27,
     "metadata": {},
     "output_type": "execute_result"
    }
   ],
   "source": [
    "from IPython.display import Image\n",
    "Image(url= \"http://www.nltk.org/images/pipeline1.png\", width=900, height=500)"
   ]
  },
  {
   "cell_type": "code",
   "execution_count": 28,
   "metadata": {},
   "outputs": [
    {
     "data": {
      "text/plain": [
       "str"
      ]
     },
     "execution_count": 28,
     "metadata": {},
     "output_type": "execute_result"
    }
   ],
   "source": [
    "raw = open('document.txt').read()\n",
    "type(raw)"
   ]
  },
  {
   "cell_type": "code",
   "execution_count": 30,
   "metadata": {},
   "outputs": [
    {
     "data": {
      "text/plain": [
       "list"
      ]
     },
     "execution_count": 30,
     "metadata": {},
     "output_type": "execute_result"
    }
   ],
   "source": [
    "tokens = nltk.tokenize.word_tokenize(raw)\n",
    "type(tokens)"
   ]
  },
  {
   "cell_type": "code",
   "execution_count": 31,
   "metadata": {},
   "outputs": [
    {
     "data": {
      "text/plain": [
       "list"
      ]
     },
     "execution_count": 31,
     "metadata": {},
     "output_type": "execute_result"
    }
   ],
   "source": [
    "words = [w.lower() for w in tokens]\n",
    "type(words)"
   ]
  },
  {
   "cell_type": "code",
   "execution_count": 33,
   "metadata": {},
   "outputs": [
    {
     "data": {
      "text/plain": [
       "list"
      ]
     },
     "execution_count": 33,
     "metadata": {},
     "output_type": "execute_result"
    }
   ],
   "source": [
    "vocab = sorted(set(words))\n",
    "type(vocab)"
   ]
  },
  {
   "cell_type": "code",
   "execution_count": 34,
   "metadata": {},
   "outputs": [
    {
     "ename": "AttributeError",
     "evalue": "'str' object has no attribute 'append'",
     "output_type": "error",
     "traceback": [
      "\u001b[1;31m---------------------------------------------------------------------------\u001b[0m",
      "\u001b[1;31mAttributeError\u001b[0m                            Traceback (most recent call last)",
      "\u001b[1;32m<ipython-input-34-b119f51d0980>\u001b[0m in \u001b[0;36m<module>\u001b[1;34m()\u001b[0m\n\u001b[0;32m      1\u001b[0m \u001b[0mvocab\u001b[0m\u001b[1;33m.\u001b[0m\u001b[0mappend\u001b[0m\u001b[1;33m(\u001b[0m\u001b[1;34m'blog'\u001b[0m\u001b[1;33m)\u001b[0m\u001b[1;33m\u001b[0m\u001b[0m\n\u001b[1;32m----> 2\u001b[1;33m \u001b[0mraw\u001b[0m\u001b[1;33m.\u001b[0m\u001b[0mappend\u001b[0m\u001b[1;33m(\u001b[0m\u001b[1;34m'blog'\u001b[0m\u001b[1;33m)\u001b[0m\u001b[1;33m\u001b[0m\u001b[0m\n\u001b[0m",
      "\u001b[1;31mAttributeError\u001b[0m: 'str' object has no attribute 'append'"
     ]
    }
   ],
   "source": [
    "vocab.append('blog')\n",
    "raw.append('blog')"
   ]
  },
  {
   "cell_type": "code",
   "execution_count": null,
   "metadata": {
    "collapsed": true
   },
   "outputs": [],
   "source": []
  }
 ],
 "metadata": {
  "kernelspec": {
   "display_name": "Python 3",
   "language": "python",
   "name": "python3"
  },
  "language_info": {
   "codemirror_mode": {
    "name": "ipython",
    "version": 3
   },
   "file_extension": ".py",
   "mimetype": "text/x-python",
   "name": "python",
   "nbconvert_exporter": "python",
   "pygments_lexer": "ipython3",
   "version": "3.6.3"
  }
 },
 "nbformat": 4,
 "nbformat_minor": 2
}
